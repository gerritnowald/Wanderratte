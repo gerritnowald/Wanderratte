{
 "cells": [
  {
   "cell_type": "code",
   "execution_count": 10,
   "id": "741954d9",
   "metadata": {},
   "outputs": [
    {
     "data": {
      "text/plain": [
       "3816794.721193417"
      ]
     },
     "execution_count": 10,
     "metadata": {},
     "output_type": "execute_result"
    }
   ],
   "source": [
    "# Parameters\n",
    "months = 2 * 12\n",
    "litters_per_year = 10\n",
    "young_per_litter = 5\n",
    "months_per_litter = 12 / litters_per_year  # 1.2 months\n",
    "birth_rate_per_month = young_per_litter / months_per_litter  # average young per month\n",
    "\n",
    "# State variables\n",
    "reproducers = 1  # Initial reproducing rat\n",
    "newborns_by_age = [0, 0, 0]  # Newborns aged 0, 1, 2 months\n",
    "\n",
    "# Track total population\n",
    "total_population = [1]  # Month 0\n",
    "\n",
    "for month in range(1, months + 1):\n",
    "    # Step 1: Each reproducing rat gives birth\n",
    "    new_born = reproducers * birth_rate_per_month\n",
    "    newborns_by_age.insert(0, new_born)\n",
    "    \n",
    "    # Step 2: Advance ages\n",
    "    matured = newborns_by_age.pop()  # These rats are now 3 months old and start reproducing\n",
    "    \n",
    "    # Step 3: Update reproducing rats\n",
    "    reproducers += matured\n",
    "    \n",
    "    # Total population = reproducers + all non-reproducing young\n",
    "    total = reproducers + sum(newborns_by_age)\n",
    "    total_population.append(total)\n",
    "\n",
    "# Final population after 36 months\n",
    "final_population = total_population[-1]\n",
    "final_population * 2\n"
   ]
  }
 ],
 "metadata": {
  "kernelspec": {
   "display_name": "Python 3",
   "language": "python",
   "name": "python3"
  },
  "language_info": {
   "codemirror_mode": {
    "name": "ipython",
    "version": 3
   },
   "file_extension": ".py",
   "mimetype": "text/x-python",
   "name": "python",
   "nbconvert_exporter": "python",
   "pygments_lexer": "ipython3",
   "version": "3.13.2"
  }
 },
 "nbformat": 4,
 "nbformat_minor": 5
}
