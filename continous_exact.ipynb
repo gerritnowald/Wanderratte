{
 "cells": [
  {
   "cell_type": "markdown",
   "id": "1a8c1d84",
   "metadata": {},
   "source": [
    "user input"
   ]
  },
  {
   "cell_type": "code",
   "execution_count": 1,
   "id": "72f80b4c",
   "metadata": {},
   "outputs": [],
   "source": [
    "T = 3 # Total time in years\n",
    "\n",
    "offspring = 5 # Number of female offspring per parent"
   ]
  },
  {
   "cell_type": "markdown",
   "id": "248311f1",
   "metadata": {},
   "source": [
    "simulation"
   ]
  },
  {
   "cell_type": "code",
   "execution_count": 2,
   "id": "3c9d322e",
   "metadata": {},
   "outputs": [],
   "source": [
    "Δt = 0.05   # Time step in years, greatest common divisor of fertility age and reproduction time\n",
    "\n",
    "total_population = []\n",
    "\n",
    "# State variables\n",
    "reproducers = 1  # Initial reproducing rat\n",
    "newborns_by_age = [0,0,0,0,0]  # Newborns aged 0, 0.05, ... , 0.2 years\n",
    "\n",
    "fertile = True\n",
    "\n",
    "for _ in range(int(T/Δt + 1)):\n",
    "    # Each reproducing rat gives birth\n",
    "    if fertile:\n",
    "        new_born = reproducers * offspring\n",
    "    else:\n",
    "        new_born = 0\n",
    "    fertile = not fertile   # produce offspring every other time step\n",
    "    newborns_by_age.insert(0, new_born)\n",
    "\n",
    "    # Advance ages & Update reproducing rats\n",
    "    reproducers += newborns_by_age.pop()  # These rats are now 3 months old and start reproducing\n",
    "    \n",
    "    # Total population = reproducers + all non-reproducing young\n",
    "    total = reproducers + sum(newborns_by_age)\n",
    "    total_population.append((total - 1) * 2)  # males + females, consider initial mother rat"
   ]
  },
  {
   "cell_type": "markdown",
   "id": "9e502676",
   "metadata": {},
   "source": [
    "results"
   ]
  },
  {
   "cell_type": "code",
   "execution_count": 3,
   "id": "7d8d880f",
   "metadata": {},
   "outputs": [],
   "source": [
    "import numpy as np\n",
    "from matplotlib import pyplot as plt"
   ]
  },
  {
   "cell_type": "code",
   "execution_count": 4,
   "id": "c2780f41",
   "metadata": {},
   "outputs": [
    {
     "name": "stdout",
     "output_type": "stream",
     "text": [
      "54,022,308,110 rats offspring after 3 years\n"
     ]
    },
    {
     "data": {
      "image/png": "[encoded data removed]",
      "text/plain": [
       "<Figure size 640x480 with 1 Axes>"
      ]
     },
     "metadata": {},
     "output_type": "display_data"
    }
   ],
   "source": [
    "time = np.arange(0, T + 0.01, Δt)\n",
    "\n",
    "# plt.plot(time, total_population, drawstyle='steps-post')\n",
    "plt.semilogy(time, total_population, drawstyle='steps-post')\n",
    "plt.xlabel('Time / a')\n",
    "plt.ylabel('population')\n",
    "plt.grid()\n",
    "\n",
    "print(f\"{total_population[-1]:,} rats offspring after {T} years\")"
   ]
  }
 ],
 "metadata": {
  "kernelspec": {
   "display_name": "Python 3",
   "language": "python",
   "name": "python3"
  },
  "language_info": {
   "codemirror_mode": {
    "name": "ipython",
    "version": 3
   },
   "file_extension": ".py",
   "mimetype": "text/x-python",
   "name": "python",
   "nbconvert_exporter": "python",
   "pygments_lexer": "ipython3",
   "version": "3.13.2"
  }
 },
 "nbformat": 4,
 "nbformat_minor": 5
}
