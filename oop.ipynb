{
 "cells": [
  {
   "cell_type": "code",
   "execution_count": 26,
   "id": "d3dce3b1",
   "metadata": {},
   "outputs": [],
   "source": [
    "import numpy as np\n",
    "from matplotlib import pyplot as plt"
   ]
  },
  {
   "cell_type": "markdown",
   "id": "14538ef5",
   "metadata": {},
   "source": [
    "user input"
   ]
  },
  {
   "cell_type": "code",
   "execution_count": 27,
   "id": "6448b14a",
   "metadata": {},
   "outputs": [],
   "source": [
    "T = 2 # Total time in years\n",
    "\n",
    "offspring = 5 # Number of female offspring per parent"
   ]
  },
  {
   "cell_type": "markdown",
   "id": "434714ca",
   "metadata": {},
   "source": [
    "initialization"
   ]
  },
  {
   "cell_type": "code",
   "execution_count": 28,
   "id": "a560a284",
   "metadata": {},
   "outputs": [],
   "source": [
    "Δt = 0.05  # Time step in years, greatest common divisor of fertility age and reproduction time\n",
    "\n",
    "time = np.arange(0, T + 0.01, Δt)\n",
    "\n",
    "number_of_rats = np.zeros(len(time), dtype=int)\n",
    "\n",
    "rats = set()"
   ]
  },
  {
   "cell_type": "markdown",
   "id": "f9f21a17",
   "metadata": {},
   "source": [
    "rat class"
   ]
  },
  {
   "cell_type": "code",
   "execution_count": 29,
   "id": "f8632079",
   "metadata": {},
   "outputs": [],
   "source": [
    "class Rat:\n",
    "    def __init__(self):\n",
    "        self.age = 0\n",
    "        self.fertile = False\n",
    "\n",
    "    def grow(self):\n",
    "        if self.age == 0.25:\n",
    "            self.fertile = True       \n",
    "\n",
    "        if self.age >= 0.25 and self.fertile:\n",
    "            for _ in range(offspring):\n",
    "                rats.add(Rat())\n",
    "\n",
    "        if self.age >= 0.25:\n",
    "            self.fertile = not self.fertile # produce offspring every other time step\n",
    "        \n",
    "        self.age += Δt"
   ]
  },
  {
   "cell_type": "markdown",
   "id": "f33daa35",
   "metadata": {},
   "source": [
    "simulation"
   ]
  },
  {
   "cell_type": "code",
   "execution_count": 30,
   "id": "d0925410",
   "metadata": {},
   "outputs": [],
   "source": [
    "mother = Rat()     # initial rat\n",
    "mother.age = 0.25  # Set the initial age of the mother rat to trigger birth\n",
    "rats.add(mother)\n",
    "\n",
    "for i in range(len(time)):\n",
    "    for rat in list(rats):\n",
    "        rat.grow()\n",
    "    number_of_rats[i] = (len(rats) - 1) * 2 # males + females, consider initial mother rat"
   ]
  },
  {
   "cell_type": "markdown",
   "id": "465bb339",
   "metadata": {},
   "source": [
    "results"
   ]
  },
  {
   "cell_type": "code",
   "execution_count": 31,
   "id": "9410f4ca",
   "metadata": {},
   "outputs": [
    {
     "name": "stdout",
     "output_type": "stream",
     "text": [
      "29,991,260 rats offspring after 2 years\n"
     ]
    },
    {
     "data": {
      "image/png": "[encoded data removed]",
      "text/plain": [
       "<Figure size 640x480 with 1 Axes>"
      ]
     },
     "metadata": {},
     "output_type": "display_data"
    }
   ],
   "source": [
    "plt.plot(time, number_of_rats, drawstyle='steps-post')\n",
    "plt.xlabel('Time / a')\n",
    "plt.ylabel('population')\n",
    "\n",
    "print(f\"{number_of_rats[-1]:,} rats offspring after {T} years\")"
   ]
  }
 ],
 "metadata": {
  "kernelspec": {
   "display_name": "Python 3",
   "language": "python",
   "name": "python3"
  },
  "language_info": {
   "codemirror_mode": {
    "name": "ipython",
    "version": 3
   },
   "file_extension": ".py",
   "mimetype": "text/x-python",
   "name": "python",
   "nbconvert_exporter": "python",
   "pygments_lexer": "ipython3",
   "version": "3.13.2"
  }
 },
 "nbformat": 4,
 "nbformat_minor": 5
}
